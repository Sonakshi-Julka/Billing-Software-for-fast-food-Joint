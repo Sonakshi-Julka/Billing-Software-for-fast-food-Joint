{
 "cells": [
  {
   "cell_type": "code",
   "execution_count": 1,
   "id": "ad9b01c8",
   "metadata": {},
   "outputs": [
    {
     "name": "stdout",
     "output_type": "stream",
     "text": [
      "Requirement already satisfied: pymongo in c:\\users\\admin\\anaconda3\\lib\\site-packages (4.10.1)\n",
      "Collecting tk\n",
      "  Downloading tk-0.1.0-py3-none-any.whl (3.9 kB)\n",
      "Requirement already satisfied: dnspython<3.0.0,>=1.16.0 in c:\\users\\admin\\anaconda3\\lib\\site-packages (from pymongo) (2.6.1)\n",
      "Installing collected packages: tk\n",
      "Successfully installed tk-0.1.0\n",
      "Note: you may need to restart the kernel to use updated packages.\n"
     ]
    }
   ],
   "source": [
    "pip install pymongo tk"
   ]
  },
  {
   "cell_type": "code",
   "execution_count": null,
   "id": "daaf24d3",
   "metadata": {},
   "outputs": [],
   "source": [
    "import tkinter as tk\n",
    "from tkinter import messagebox\n",
    "from pymongo import MongoClient\n",
    "\n",
    "# MongoDB connection setup\n",
    "client = MongoClient(\"mongodb://localhost:27017/\")\n",
    "db = client['billing_database']\n",
    "collection = db['bills']\n",
    "\n",
    "# Global variables to store cart items and total\n",
    "cart = []\n",
    "total_amount = 0\n",
    "\n",
    "# Function to add items to the cart\n",
    "def add_to_cart(item_name, item_price):\n",
    "    global total_amount\n",
    "    cart.append({'name': item_name, 'price': item_price})\n",
    "    total_amount += item_price\n",
    "    messagebox.showinfo(\"Added\", f\"{item_name} added to cart. Total: ₹{total_amount}\")\n",
    "\n",
    "# Function to generate the bill and store it in MongoDB\n",
    "def generate_bill():\n",
    "    if not cart:\n",
    "        messagebox.showerror(\"Error\", \"No items in the cart!\")\n",
    "        return\n",
    "\n",
    "    # Display bill details\n",
    "    bill_window = tk.Toplevel()\n",
    "    bill_window.title(\"Bill\")\n",
    "\n",
    "    total_label = tk.Label(bill_window, text=\"Bill Details\", font=(\"Arial\", 18))\n",
    "    total_label.pack()\n",
    "\n",
    "    for item in cart:\n",
    "        item_label = tk.Label(bill_window, text=f\"{item['name']} - ₹{item['price']}\")\n",
    "        item_label.pack()\n",
    "\n",
    "    total_label = tk.Label(bill_window, text=f\"Total Amount: ₹{total_amount}\", font=(\"Arial\", 16))\n",
    "    total_label.pack()\n",
    "\n",
    "    # Store the bill in MongoDB\n",
    "    bill_data = {'items': cart, 'total': total_amount}\n",
    "    collection.insert_one(bill_data)\n",
    "\n",
    "    messagebox.showinfo(\"Bill\", \"Bill generated and stored in MongoDB successfully!\")\n",
    "\n",
    "# Function to create the items form (Form 1)\n",
    "def open_items_form():\n",
    "    items_window = tk.Toplevel()\n",
    "    items_window.title(\"Add Items to Cart\")\n",
    "\n",
    "    items = [\n",
    "        (\"Pizza\", 300),\n",
    "        (\"Burger\", 180),\n",
    "        (\"Noodles\", 250),\n",
    "        (\"Pasta\", 280),\n",
    "        (\"Sandwich\", 140)\n",
    "    ]\n",
    "\n",
    "    label = tk.Label(items_window, text=\"Select an item to add to the cart\", font=(\"Arial\", 14))\n",
    "    label.pack()\n",
    "\n",
    "    for item_name, item_price in items:\n",
    "        button = tk.Button(items_window, text=f\"{item_name} - ₹{item_price}\", command=lambda i=item_name, p=item_price: add_to_cart(i, p))\n",
    "        button.pack()\n",
    "\n",
    "# Main window setup\n",
    "root = tk.Tk()\n",
    "root.title(\"Billing Software\")\n",
    "\n",
    "label = tk.Label(root, text=\"Billing Software\", font=(\"Arial\", 20))\n",
    "label.pack(pady=10)\n",
    "\n",
    "add_items_button = tk.Button(root, text=\"Add Items to Cart\", command=open_items_form, font=(\"Arial\", 14))\n",
    "add_items_button.pack(pady=10)\n",
    "\n",
    "generate_bill_button = tk.Button(root, text=\"Generate Bill\", command=generate_bill, font=(\"Arial\", 14))\n",
    "generate_bill_button.pack(pady=10)\n",
    "\n",
    "root.mainloop()\n"
   ]
  },
  {
   "cell_type": "code",
   "execution_count": null,
   "id": "eb961f7b",
   "metadata": {},
   "outputs": [],
   "source": []
  }
 ],
 "metadata": {
  "kernelspec": {
   "display_name": "Python 3",
   "language": "python",
   "name": "python3"
  },
  "language_info": {
   "codemirror_mode": {
    "name": "ipython",
    "version": 3
   },
   "file_extension": ".py",
   "mimetype": "text/x-python",
   "name": "python",
   "nbconvert_exporter": "python",
   "pygments_lexer": "ipython3",
   "version": "3.8.8"
  }
 },
 "nbformat": 4,
 "nbformat_minor": 5
}
